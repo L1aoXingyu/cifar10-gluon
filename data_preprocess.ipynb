{
 "cells": [
  {
   "cell_type": "code",
   "execution_count": null,
   "metadata": {
    "collapsed": true
   },
   "outputs": [],
   "source": [
    "with open('./data/trainLabels.csv', 'r') as f:\n",
    "    lines = f.readlines()[1:]\n",
    "    tokens = [i.rstrip().split(',') for i in lines]\n",
    "    idx_label = dict((int(idx), label) for idx, label in tokens)\n",
    "labels = set(idx_label.values())\n",
    "\n",
    "num_train = len(os.listdir('./data/train/'))\n",
    "\n",
    "num_train_tuning = int(num_train * (1 - 0.1))\n",
    "\n",
    "num_train_tuning_per_label = num_train_tuning // len(labels)\n",
    "\n",
    "label_count = dict()\n",
    "def mkdir_if_not_exist(path):\n",
    "    if not os.path.exists(os.path.join(*path)):\n",
    "        os.makedirs(os.path.join(*path))\n",
    "for train_file in os.listdir('./data/train/'):\n",
    "    idx = int(train_file.split('.')[0])\n",
    "    label = idx_label[idx]\n",
    "    mkdir_if_not_exist(['./data', 'train_valid', label])\n",
    "    shutil.copy(os.path.join('./data/train/', train_file),\n",
    "               os.path.join('./data/train_valid', label))\n",
    "    if label not in label_count or label_count[label] < num_train_tuning_per_label:\n",
    "        mkdir_if_not_exist(['./data/train_data', label])\n",
    "        shutil.copy(os.path.join('./data/train', train_file),\n",
    "                   os.path.join('./data/train_data', label))\n",
    "        label_count[label] = label_count.get(label, 0) + 1\n",
    "    else:\n",
    "        mkdir_if_not_exist(['./data/valid_data', label])\n",
    "        shutil.copy(os.path.join('./data/train/', train_file),\n",
    "                   os.path.join('./data/valid_data', label))"
   ]
  }
 ],
 "metadata": {
  "kernelspec": {
   "display_name": "Python 3",
   "language": "python",
   "name": "python3"
  },
  "language_info": {
   "codemirror_mode": {
    "name": "ipython",
    "version": 3
   },
   "file_extension": ".py",
   "mimetype": "text/x-python",
   "name": "python",
   "nbconvert_exporter": "python",
   "pygments_lexer": "ipython3",
   "version": "3.6.2"
  }
 },
 "nbformat": 4,
 "nbformat_minor": 2
}
