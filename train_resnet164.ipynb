{
 "cells": [
  {
   "cell_type": "code",
   "execution_count": 1,
   "metadata": {
    "ExecuteTime": {
     "end_time": "2017-11-06T11:08:16.816979Z",
     "start_time": "2017-11-06T11:08:16.073620Z"
    },
    "collapsed": true
   },
   "outputs": [],
   "source": [
    "import os\n",
    "import math\n",
    "import mxnet as mx\n",
    "from mxnet import image\n",
    "from mxnet import nd, gluon, autograd, init\n",
    "from mxnet.gluon.data.vision import ImageFolderDataset\n",
    "from mxnet.gluon.data import DataLoader\n",
    "from mxnet.gluon import nn\n",
    "from tensorboardX import SummaryWriter\n",
    "import numpy as np\n",
    "import shutil"
   ]
  },
  {
   "cell_type": "code",
   "execution_count": 2,
   "metadata": {
    "ExecuteTime": {
     "end_time": "2017-11-06T11:08:58.368068Z",
     "start_time": "2017-11-06T11:08:58.290477Z"
    },
    "collapsed": true
   },
   "outputs": [],
   "source": [
    "def transform_train(data, label):\n",
    "    im = data.asnumpy()\n",
    "    im = np.pad(im, ((4, 4), (4, 4), (0, 0)), mode='constant', constant_values=0)\n",
    "    im = nd.array(im, dtype='float32') / 255\n",
    "    auglist = image.CreateAugmenter(data_shape=(3, 32, 32), resize=0, rand_mirror=True,\n",
    "                                    rand_crop=True,\n",
    "                                   mean=np.array([0.4914, 0.4822, 0.4465]),\n",
    "                                   std=np.array([0.2023, 0.1994, 0.2010]))\n",
    "    for aug in auglist:\n",
    "        im = aug(im)\n",
    "    im = nd.transpose(im, (2, 0, 1)) # channel x width x height\n",
    "    return im, nd.array([label]).astype('float32')\n",
    "\n",
    "def transform_test(data, label):\n",
    "    im = data.astype('float32') / 255\n",
    "    auglist = image.CreateAugmenter(data_shape=(3, 32, 32), mean=np.array([0.4914, 0.4822, 0.4465]),\n",
    "                                   std=np.array([0.2023, 0.1994, 0.2010]))\n",
    "    for aug in auglist:\n",
    "        im = aug(im)\n",
    "    im = nd.transpose(im, (2, 0, 1))\n",
    "    return im, nd.array([label]).astype('float32')"
   ]
  },
  {
   "cell_type": "code",
   "execution_count": 3,
   "metadata": {
    "ExecuteTime": {
     "end_time": "2017-11-06T11:09:04.083947Z",
     "start_time": "2017-11-06T11:09:00.677945Z"
    },
    "collapsed": true
   },
   "outputs": [],
   "source": [
    "train_ds = ImageFolderDataset('./data/train_data/', transform=transform_train)\n",
    "valid_ds = ImageFolderDataset('./data/valid_data/', transform=transform_test)\n",
    "train_valid_ds = ImageFolderDataset('./data/train_valid/', transform=transform_train)\n",
    "test_ds = ImageFolderDataset('./data/TestSet/', transform=transform_test)"
   ]
  },
  {
   "cell_type": "code",
   "execution_count": 18,
   "metadata": {
    "ExecuteTime": {
     "end_time": "2017-11-06T11:20:25.790627Z",
     "start_time": "2017-11-06T11:20:25.770867Z"
    },
    "collapsed": true
   },
   "outputs": [],
   "source": [
    "train_data = DataLoader(train_ds, batch_size=64, shuffle=True, last_batch='keep')\n",
    "valid_data = DataLoader(valid_ds, batch_size=64, shuffle=True, last_batch='keep')\n",
    "train_valid_data = DataLoader(train_valid_ds, batch_size=128, shuffle=True, last_batch='keep')\n",
    "test_data = DataLoader(test_ds, batch_size=128, shuffle=False, last_batch='keep')"
   ]
  },
  {
   "cell_type": "code",
   "execution_count": 5,
   "metadata": {
    "ExecuteTime": {
     "end_time": "2017-11-06T11:09:04.097252Z",
     "start_time": "2017-11-06T11:09:04.094562Z"
    },
    "collapsed": true
   },
   "outputs": [],
   "source": [
    "criterion = gluon.loss.SoftmaxCrossEntropyLoss()"
   ]
  },
  {
   "cell_type": "code",
   "execution_count": 6,
   "metadata": {
    "ExecuteTime": {
     "end_time": "2017-11-06T11:09:21.155977Z",
     "start_time": "2017-11-06T11:09:21.150554Z"
    },
    "collapsed": true
   },
   "outputs": [],
   "source": [
    "from resnet import ResNet164_v2"
   ]
  },
  {
   "cell_type": "code",
   "execution_count": 9,
   "metadata": {
    "ExecuteTime": {
     "end_time": "2017-11-06T11:10:59.307562Z",
     "start_time": "2017-11-06T11:10:57.420609Z"
    }
   },
   "outputs": [],
   "source": [
    "model = ResNet164_v2(10)\n",
    "model.initialize(ctx=mx.gpu(1), init=mx.initializer.Xavier())\n",
    "model.hybridize()"
   ]
  },
  {
   "cell_type": "code",
   "execution_count": 21,
   "metadata": {
    "ExecuteTime": {
     "end_time": "2017-11-06T11:21:30.301060Z",
     "start_time": "2017-11-06T11:21:30.054908Z"
    },
    "collapsed": true
   },
   "outputs": [],
   "source": [
    "import datetime\n",
    "writer = SummaryWriter()\n",
    "\n",
    "def get_acc(output, label):\n",
    "    pred = output.argmax(1, keepdims=True)\n",
    "    correct = (pred == label).sum()\n",
    "    return correct.asscalar()\n",
    "\n",
    "def train(net, train_data, valid_data, num_epochs, lr, wd, ctx, lr_decay):\n",
    "    trainer = gluon.Trainer(\n",
    "        net.collect_params(), 'sgd', {'learning_rate': lr, 'momentum': 0.9, 'wd': wd})\n",
    "\n",
    "    prev_time = datetime.datetime.now()\n",
    "    for epoch in range(num_epochs):\n",
    "        train_loss = 0\n",
    "        correct = 0\n",
    "        total = 0\n",
    "        if epoch == 89 or epoch == 139:\n",
    "            trainer.set_learning_rate(trainer.learning_rate * lr_decay)\n",
    "        for data, label in train_data:\n",
    "            bs = data.shape[0]\n",
    "            data = data.as_in_context(ctx)\n",
    "            label = label.as_in_context(ctx)\n",
    "            with autograd.record():\n",
    "                output = net(data)\n",
    "                loss = criterion(output, label)\n",
    "            loss.backward()\n",
    "            trainer.step(bs)\n",
    "            train_loss += nd.mean(loss).asscalar()\n",
    "            correct += get_acc(output, label)\n",
    "            total += bs\n",
    "        writer.add_scalars('loss', {'train': train_loss / len(train_data)}, epoch)\n",
    "        writer.add_scalars('acc', {'train': correct / total}, epoch)\n",
    "        cur_time = datetime.datetime.now()\n",
    "        h, remainder = divmod((cur_time - prev_time).seconds, 3600)\n",
    "        m, s = divmod(remainder, 60)\n",
    "        time_str = \"Time %02d:%02d:%02d\" % (h, m, s)\n",
    "        if valid_data is not None:\n",
    "            valid_correct = 0\n",
    "            valid_total = 0\n",
    "            valid_loss = 0\n",
    "            for data, label in valid_data:\n",
    "                bs = data.shape[0]\n",
    "                data = data.as_in_context(ctx)\n",
    "                label = label.as_in_context(ctx)\n",
    "                output = net(data)\n",
    "                loss = criterion(output, label)\n",
    "                valid_loss += nd.mean(loss).asscalar()\n",
    "                valid_correct += get_acc(output, label)\n",
    "                valid_total += bs\n",
    "            valid_acc = valid_correct / valid_total\n",
    "            writer.add_scalars('loss', {'valid': valid_loss / len(valid_data)}, epoch)\n",
    "            writer.add_scalars('acc', {'valid': valid_acc}, epoch)\n",
    "            epoch_str = (\"Epoch %d. Train Loss: %f, Train acc %f, Valid Loss: %f, Valid acc %f, \"\n",
    "                         % (epoch, train_loss / len(train_data),\n",
    "                            correct / total, valid_loss / len(valid_data), valid_acc))\n",
    "        else:\n",
    "            epoch_str = (\"Epoch %d. Loss: %f, Train acc %f, \"\n",
    "                         % (epoch, train_loss / len(train_data),\n",
    "                            correct / total))\n",
    "        prev_time = cur_time\n",
    "        print(epoch_str + time_str + ', lr ' + str(trainer.learning_rate))"
   ]
  },
  {
   "cell_type": "code",
   "execution_count": 23,
   "metadata": {
    "ExecuteTime": {
     "end_time": "2017-11-06T22:13:03.895337Z",
     "start_time": "2017-11-06T11:21:45.137699Z"
    }
   },
   "outputs": [
    {
     "name": "stdout",
     "output_type": "stream",
     "text": [
      "Epoch 0. Loss: 1.475502, Train acc 0.456540, Time 00:03:25, lr 0.1\n",
      "Epoch 1. Loss: 0.962582, Train acc 0.654680, Time 00:03:18, lr 0.1\n",
      "Epoch 2. Loss: 0.768715, Train acc 0.730140, Time 00:03:20, lr 0.1\n",
      "Epoch 3. Loss: 0.646319, Train acc 0.774780, Time 00:03:20, lr 0.1\n",
      "Epoch 4. Loss: 0.556304, Train acc 0.806260, Time 00:03:20, lr 0.1\n",
      "Epoch 5. Loss: 0.508641, Train acc 0.824540, Time 00:03:16, lr 0.1\n",
      "Epoch 6. Loss: 0.472446, Train acc 0.837760, Time 00:03:21, lr 0.1\n",
      "Epoch 7. Loss: 0.431642, Train acc 0.851300, Time 00:03:16, lr 0.1\n",
      "Epoch 8. Loss: 0.401767, Train acc 0.861060, Time 00:03:21, lr 0.1\n",
      "Epoch 9. Loss: 0.378359, Train acc 0.869960, Time 00:03:17, lr 0.1\n",
      "Epoch 10. Loss: 0.360752, Train acc 0.874180, Time 00:03:22, lr 0.1\n",
      "Epoch 11. Loss: 0.341468, Train acc 0.881440, Time 00:03:19, lr 0.1\n",
      "Epoch 12. Loss: 0.326856, Train acc 0.886580, Time 00:03:18, lr 0.1\n",
      "Epoch 13. Loss: 0.311444, Train acc 0.891360, Time 00:03:15, lr 0.1\n",
      "Epoch 14. Loss: 0.303571, Train acc 0.894080, Time 00:03:18, lr 0.1\n",
      "Epoch 15. Loss: 0.289933, Train acc 0.898740, Time 00:03:20, lr 0.1\n",
      "Epoch 16. Loss: 0.280897, Train acc 0.902540, Time 00:03:18, lr 0.1\n",
      "Epoch 17. Loss: 0.271900, Train acc 0.905280, Time 00:03:19, lr 0.1\n",
      "Epoch 18. Loss: 0.259893, Train acc 0.909120, Time 00:03:16, lr 0.1\n",
      "Epoch 19. Loss: 0.252850, Train acc 0.911460, Time 00:03:15, lr 0.1\n",
      "Epoch 20. Loss: 0.247141, Train acc 0.913400, Time 00:03:19, lr 0.1\n",
      "Epoch 21. Loss: 0.246102, Train acc 0.914420, Time 00:03:16, lr 0.1\n",
      "Epoch 22. Loss: 0.237628, Train acc 0.916260, Time 00:03:16, lr 0.1\n",
      "Epoch 23. Loss: 0.236391, Train acc 0.918360, Time 00:03:22, lr 0.1\n",
      "Epoch 24. Loss: 0.227462, Train acc 0.920540, Time 00:03:14, lr 0.1\n",
      "Epoch 25. Loss: 0.224598, Train acc 0.922440, Time 00:03:10, lr 0.1\n",
      "Epoch 26. Loss: 0.216180, Train acc 0.925280, Time 00:03:18, lr 0.1\n",
      "Epoch 27. Loss: 0.219999, Train acc 0.923260, Time 00:03:16, lr 0.1\n",
      "Epoch 28. Loss: 0.215697, Train acc 0.924660, Time 00:03:17, lr 0.1\n",
      "Epoch 29. Loss: 0.210419, Train acc 0.927560, Time 00:03:17, lr 0.1\n",
      "Epoch 30. Loss: 0.209284, Train acc 0.927740, Time 00:03:13, lr 0.1\n",
      "Epoch 31. Loss: 0.205118, Train acc 0.928540, Time 00:03:11, lr 0.1\n",
      "Epoch 32. Loss: 0.205009, Train acc 0.929000, Time 00:03:16, lr 0.1\n",
      "Epoch 33. Loss: 0.207293, Train acc 0.928200, Time 00:03:20, lr 0.1\n",
      "Epoch 34. Loss: 0.202203, Train acc 0.929200, Time 00:03:15, lr 0.1\n",
      "Epoch 35. Loss: 0.197106, Train acc 0.931980, Time 00:03:15, lr 0.1\n",
      "Epoch 36. Loss: 0.194524, Train acc 0.931320, Time 00:03:15, lr 0.1\n",
      "Epoch 37. Loss: 0.195194, Train acc 0.932000, Time 00:03:17, lr 0.1\n",
      "Epoch 38. Loss: 0.198081, Train acc 0.931020, Time 00:03:14, lr 0.1\n",
      "Epoch 39. Loss: 0.191161, Train acc 0.932420, Time 00:03:13, lr 0.1\n",
      "Epoch 40. Loss: 0.188331, Train acc 0.933720, Time 00:03:17, lr 0.1\n",
      "Epoch 41. Loss: 0.190190, Train acc 0.933880, Time 00:03:13, lr 0.1\n",
      "Epoch 42. Loss: 0.186997, Train acc 0.934680, Time 00:03:13, lr 0.1\n",
      "Epoch 43. Loss: 0.185532, Train acc 0.934640, Time 00:03:14, lr 0.1\n",
      "Epoch 44. Loss: 0.181935, Train acc 0.936520, Time 00:03:16, lr 0.1\n",
      "Epoch 45. Loss: 0.184140, Train acc 0.936320, Time 00:03:17, lr 0.1\n",
      "Epoch 46. Loss: 0.182915, Train acc 0.934980, Time 00:03:13, lr 0.1\n",
      "Epoch 47. Loss: 0.179826, Train acc 0.937240, Time 00:03:14, lr 0.1\n",
      "Epoch 48. Loss: 0.180529, Train acc 0.937700, Time 00:03:15, lr 0.1\n",
      "Epoch 49. Loss: 0.180748, Train acc 0.937560, Time 00:03:17, lr 0.1\n",
      "Epoch 50. Loss: 0.180280, Train acc 0.936980, Time 00:03:15, lr 0.1\n",
      "Epoch 51. Loss: 0.178810, Train acc 0.937540, Time 00:03:12, lr 0.1\n",
      "Epoch 52. Loss: 0.174509, Train acc 0.939140, Time 00:03:14, lr 0.1\n",
      "Epoch 53. Loss: 0.179356, Train acc 0.937680, Time 00:03:18, lr 0.1\n",
      "Epoch 54. Loss: 0.179842, Train acc 0.936460, Time 00:03:14, lr 0.1\n",
      "Epoch 55. Loss: 0.173926, Train acc 0.938720, Time 00:03:11, lr 0.1\n",
      "Epoch 56. Loss: 0.167874, Train acc 0.941100, Time 00:03:14, lr 0.1\n",
      "Epoch 57. Loss: 0.167866, Train acc 0.942060, Time 00:03:10, lr 0.1\n",
      "Epoch 58. Loss: 0.173731, Train acc 0.939200, Time 00:03:14, lr 0.1\n",
      "Epoch 59. Loss: 0.168566, Train acc 0.941420, Time 00:03:16, lr 0.1\n",
      "Epoch 60. Loss: 0.174574, Train acc 0.938760, Time 00:03:17, lr 0.1\n",
      "Epoch 61. Loss: 0.173582, Train acc 0.940500, Time 00:03:11, lr 0.1\n",
      "Epoch 62. Loss: 0.166416, Train acc 0.941320, Time 00:03:16, lr 0.1\n",
      "Epoch 63. Loss: 0.165634, Train acc 0.943240, Time 00:03:14, lr 0.1\n",
      "Epoch 64. Loss: 0.169589, Train acc 0.941660, Time 00:03:14, lr 0.1\n",
      "Epoch 65. Loss: 0.163246, Train acc 0.943800, Time 00:03:16, lr 0.1\n",
      "Epoch 66. Loss: 0.165280, Train acc 0.942020, Time 00:03:14, lr 0.1\n",
      "Epoch 67. Loss: 0.166117, Train acc 0.941400, Time 00:03:14, lr 0.1\n",
      "Epoch 68. Loss: 0.157826, Train acc 0.945400, Time 00:03:16, lr 0.1\n",
      "Epoch 69. Loss: 0.164059, Train acc 0.942060, Time 00:03:11, lr 0.1\n",
      "Epoch 70. Loss: 0.161181, Train acc 0.943900, Time 00:03:14, lr 0.1\n",
      "Epoch 71. Loss: 0.161236, Train acc 0.943020, Time 00:03:16, lr 0.1\n",
      "Epoch 72. Loss: 0.161757, Train acc 0.943620, Time 00:03:14, lr 0.1\n",
      "Epoch 73. Loss: 0.157233, Train acc 0.945460, Time 00:03:15, lr 0.1\n",
      "Epoch 74. Loss: 0.161277, Train acc 0.944140, Time 00:03:15, lr 0.1\n",
      "Epoch 75. Loss: 0.152664, Train acc 0.946620, Time 00:03:15, lr 0.1\n",
      "Epoch 76. Loss: 0.157055, Train acc 0.945400, Time 00:03:14, lr 0.1\n",
      "Epoch 77. Loss: 0.164779, Train acc 0.942180, Time 00:03:11, lr 0.1\n",
      "Epoch 78. Loss: 0.153927, Train acc 0.946060, Time 00:03:14, lr 0.1\n",
      "Epoch 79. Loss: 0.159419, Train acc 0.944080, Time 00:03:18, lr 0.1\n",
      "Epoch 80. Loss: 0.155886, Train acc 0.944100, Time 00:03:15, lr 0.1\n",
      "Epoch 81. Loss: 0.148771, Train acc 0.948100, Time 00:03:18, lr 0.1\n",
      "Epoch 82. Loss: 0.155363, Train acc 0.946540, Time 00:03:16, lr 0.1\n",
      "Epoch 83. Loss: 0.153064, Train acc 0.947020, Time 00:03:14, lr 0.1\n",
      "Epoch 84. Loss: 0.149712, Train acc 0.948180, Time 00:03:15, lr 0.1\n",
      "Epoch 85. Loss: 0.144650, Train acc 0.949340, Time 00:03:14, lr 0.1\n",
      "Epoch 86. Loss: 0.150248, Train acc 0.946780, Time 00:03:15, lr 0.1\n",
      "Epoch 87. Loss: 0.147900, Train acc 0.947660, Time 00:03:14, lr 0.1\n",
      "Epoch 88. Loss: 0.148110, Train acc 0.948140, Time 00:03:18, lr 0.1\n",
      "Epoch 89. Loss: 0.081695, Train acc 0.973300, Time 00:03:16, lr 0.010000000000000002\n",
      "Epoch 90. Loss: 0.042055, Train acc 0.987520, Time 00:03:14, lr 0.010000000000000002\n",
      "Epoch 91. Loss: 0.032552, Train acc 0.990680, Time 00:03:14, lr 0.010000000000000002\n",
      "Epoch 92. Loss: 0.025310, Train acc 0.993220, Time 00:03:14, lr 0.010000000000000002\n",
      "Epoch 93. Loss: 0.021936, Train acc 0.994200, Time 00:03:17, lr 0.010000000000000002\n",
      "Epoch 94. Loss: 0.019897, Train acc 0.995000, Time 00:03:17, lr 0.010000000000000002\n",
      "Epoch 95. Loss: 0.017188, Train acc 0.995700, Time 00:03:11, lr 0.010000000000000002\n",
      "Epoch 96. Loss: 0.014268, Train acc 0.996620, Time 00:03:12, lr 0.010000000000000002\n",
      "Epoch 97. Loss: 0.013385, Train acc 0.996720, Time 00:03:15, lr 0.010000000000000002\n",
      "Epoch 98. Loss: 0.012321, Train acc 0.997040, Time 00:03:18, lr 0.010000000000000002\n",
      "Epoch 99. Loss: 0.010994, Train acc 0.997660, Time 00:03:17, lr 0.010000000000000002\n",
      "Epoch 100. Loss: 0.010353, Train acc 0.997460, Time 00:03:17, lr 0.010000000000000002\n",
      "Epoch 101. Loss: 0.009612, Train acc 0.998120, Time 00:03:15, lr 0.010000000000000002\n",
      "Epoch 102. Loss: 0.008149, Train acc 0.998340, Time 00:03:06, lr 0.010000000000000002\n",
      "Epoch 103. Loss: 0.008558, Train acc 0.998200, Time 00:03:14, lr 0.010000000000000002\n",
      "Epoch 104. Loss: 0.007809, Train acc 0.998340, Time 00:03:15, lr 0.010000000000000002\n",
      "Epoch 105. Loss: 0.007064, Train acc 0.998860, Time 00:03:11, lr 0.010000000000000002\n",
      "Epoch 106. Loss: 0.006865, Train acc 0.998660, Time 00:03:16, lr 0.010000000000000002\n",
      "Epoch 107. Loss: 0.005861, Train acc 0.999040, Time 00:03:15, lr 0.010000000000000002\n",
      "Epoch 108. Loss: 0.005824, Train acc 0.998900, Time 00:03:14, lr 0.010000000000000002\n",
      "Epoch 109. Loss: 0.005514, Train acc 0.998960, Time 00:03:15, lr 0.010000000000000002\n",
      "Epoch 110. Loss: 0.005347, Train acc 0.999040, Time 00:03:12, lr 0.010000000000000002\n",
      "Epoch 111. Loss: 0.005298, Train acc 0.999040, Time 00:03:13, lr 0.010000000000000002\n",
      "Epoch 112. Loss: 0.004875, Train acc 0.999280, Time 00:03:14, lr 0.010000000000000002\n",
      "Epoch 113. Loss: 0.004919, Train acc 0.999140, Time 00:03:11, lr 0.010000000000000002\n",
      "Epoch 114. Loss: 0.005049, Train acc 0.999080, Time 00:03:17, lr 0.010000000000000002\n"
     ]
    },
    {
     "name": "stdout",
     "output_type": "stream",
     "text": [
      "Epoch 115. Loss: 0.005066, Train acc 0.998940, Time 00:03:14, lr 0.010000000000000002\n",
      "Epoch 116. Loss: 0.004368, Train acc 0.999260, Time 00:03:16, lr 0.010000000000000002\n",
      "Epoch 117. Loss: 0.004636, Train acc 0.999060, Time 00:03:14, lr 0.010000000000000002\n",
      "Epoch 118. Loss: 0.003994, Train acc 0.999300, Time 00:03:13, lr 0.010000000000000002\n",
      "Epoch 119. Loss: 0.003640, Train acc 0.999460, Time 00:03:14, lr 0.010000000000000002\n",
      "Epoch 120. Loss: 0.003481, Train acc 0.999480, Time 00:03:13, lr 0.010000000000000002\n",
      "Epoch 121. Loss: 0.003952, Train acc 0.999280, Time 00:03:14, lr 0.010000000000000002\n",
      "Epoch 122. Loss: 0.003550, Train acc 0.999500, Time 00:03:14, lr 0.010000000000000002\n",
      "Epoch 123. Loss: 0.003462, Train acc 0.999480, Time 00:03:15, lr 0.010000000000000002\n",
      "Epoch 124. Loss: 0.003724, Train acc 0.999400, Time 00:03:15, lr 0.010000000000000002\n",
      "Epoch 125. Loss: 0.003183, Train acc 0.999640, Time 00:03:16, lr 0.010000000000000002\n",
      "Epoch 126. Loss: 0.003549, Train acc 0.999320, Time 00:03:15, lr 0.010000000000000002\n",
      "Epoch 127. Loss: 0.003107, Train acc 0.999620, Time 00:03:15, lr 0.010000000000000002\n",
      "Epoch 128. Loss: 0.003384, Train acc 0.999360, Time 00:03:13, lr 0.010000000000000002\n",
      "Epoch 129. Loss: 0.003061, Train acc 0.999560, Time 00:03:14, lr 0.010000000000000002\n",
      "Epoch 130. Loss: 0.003266, Train acc 0.999620, Time 00:03:15, lr 0.010000000000000002\n",
      "Epoch 131. Loss: 0.003035, Train acc 0.999500, Time 00:03:14, lr 0.010000000000000002\n",
      "Epoch 132. Loss: 0.002629, Train acc 0.999640, Time 00:03:14, lr 0.010000000000000002\n",
      "Epoch 133. Loss: 0.002541, Train acc 0.999660, Time 00:03:15, lr 0.010000000000000002\n",
      "Epoch 134. Loss: 0.002919, Train acc 0.999540, Time 00:03:16, lr 0.010000000000000002\n",
      "Epoch 135. Loss: 0.002667, Train acc 0.999620, Time 00:03:12, lr 0.010000000000000002\n",
      "Epoch 136. Loss: 0.002767, Train acc 0.999540, Time 00:03:17, lr 0.010000000000000002\n",
      "Epoch 137. Loss: 0.002687, Train acc 0.999600, Time 00:03:18, lr 0.010000000000000002\n",
      "Epoch 138. Loss: 0.002535, Train acc 0.999620, Time 00:03:16, lr 0.010000000000000002\n",
      "Epoch 139. Loss: 0.002265, Train acc 0.999640, Time 00:03:14, lr 0.0010000000000000002\n",
      "Epoch 140. Loss: 0.002131, Train acc 0.999780, Time 00:03:16, lr 0.0010000000000000002\n",
      "Epoch 141. Loss: 0.002310, Train acc 0.999680, Time 00:03:16, lr 0.0010000000000000002\n",
      "Epoch 142. Loss: 0.002156, Train acc 0.999780, Time 00:03:16, lr 0.0010000000000000002\n",
      "Epoch 143. Loss: 0.002203, Train acc 0.999680, Time 00:03:17, lr 0.0010000000000000002\n",
      "Epoch 144. Loss: 0.002078, Train acc 0.999780, Time 00:03:15, lr 0.0010000000000000002\n",
      "Epoch 145. Loss: 0.002038, Train acc 0.999720, Time 00:03:17, lr 0.0010000000000000002\n",
      "Epoch 146. Loss: 0.002026, Train acc 0.999740, Time 00:03:15, lr 0.0010000000000000002\n",
      "Epoch 147. Loss: 0.001993, Train acc 0.999700, Time 00:03:16, lr 0.0010000000000000002\n",
      "Epoch 148. Loss: 0.001927, Train acc 0.999800, Time 00:03:13, lr 0.0010000000000000002\n",
      "Epoch 149. Loss: 0.001877, Train acc 0.999780, Time 00:03:16, lr 0.0010000000000000002\n",
      "Epoch 150. Loss: 0.001988, Train acc 0.999700, Time 00:03:17, lr 0.0010000000000000002\n",
      "Epoch 151. Loss: 0.001968, Train acc 0.999800, Time 00:03:16, lr 0.0010000000000000002\n",
      "Epoch 152. Loss: 0.001886, Train acc 0.999720, Time 00:03:12, lr 0.0010000000000000002\n",
      "Epoch 153. Loss: 0.001589, Train acc 0.999920, Time 00:03:13, lr 0.0010000000000000002\n",
      "Epoch 154. Loss: 0.001809, Train acc 0.999780, Time 00:03:14, lr 0.0010000000000000002\n",
      "Epoch 155. Loss: 0.001717, Train acc 0.999860, Time 00:03:12, lr 0.0010000000000000002\n",
      "Epoch 156. Loss: 0.001755, Train acc 0.999780, Time 00:03:18, lr 0.0010000000000000002\n",
      "Epoch 157. Loss: 0.001785, Train acc 0.999840, Time 00:03:14, lr 0.0010000000000000002\n",
      "Epoch 158. Loss: 0.001694, Train acc 0.999900, Time 00:03:14, lr 0.0010000000000000002\n",
      "Epoch 159. Loss: 0.001714, Train acc 0.999840, Time 00:03:15, lr 0.0010000000000000002\n",
      "Epoch 160. Loss: 0.001567, Train acc 0.999880, Time 00:03:12, lr 0.0010000000000000002\n",
      "Epoch 161. Loss: 0.001722, Train acc 0.999840, Time 00:03:13, lr 0.0010000000000000002\n",
      "Epoch 162. Loss: 0.001565, Train acc 0.999800, Time 00:03:16, lr 0.0010000000000000002\n",
      "Epoch 163. Loss: 0.001863, Train acc 0.999820, Time 00:03:15, lr 0.0010000000000000002\n",
      "Epoch 164. Loss: 0.001691, Train acc 0.999860, Time 00:03:12, lr 0.0010000000000000002\n",
      "Epoch 165. Loss: 0.001822, Train acc 0.999820, Time 00:03:08, lr 0.0010000000000000002\n",
      "Epoch 166. Loss: 0.001567, Train acc 0.999900, Time 00:03:13, lr 0.0010000000000000002\n",
      "Epoch 167. Loss: 0.001658, Train acc 0.999900, Time 00:03:11, lr 0.0010000000000000002\n",
      "Epoch 168. Loss: 0.001591, Train acc 0.999860, Time 00:03:14, lr 0.0010000000000000002\n",
      "Epoch 169. Loss: 0.001651, Train acc 0.999840, Time 00:03:14, lr 0.0010000000000000002\n",
      "Epoch 170. Loss: 0.001726, Train acc 0.999780, Time 00:03:19, lr 0.0010000000000000002\n",
      "Epoch 171. Loss: 0.001633, Train acc 0.999860, Time 00:03:14, lr 0.0010000000000000002\n",
      "Epoch 172. Loss: 0.001610, Train acc 0.999900, Time 00:03:14, lr 0.0010000000000000002\n",
      "Epoch 173. Loss: 0.001597, Train acc 0.999820, Time 00:03:14, lr 0.0010000000000000002\n",
      "Epoch 174. Loss: 0.001575, Train acc 0.999900, Time 00:03:13, lr 0.0010000000000000002\n",
      "Epoch 175. Loss: 0.001610, Train acc 0.999900, Time 00:03:14, lr 0.0010000000000000002\n",
      "Epoch 176. Loss: 0.001697, Train acc 0.999860, Time 00:03:12, lr 0.0010000000000000002\n",
      "Epoch 177. Loss: 0.001517, Train acc 0.999900, Time 00:03:15, lr 0.0010000000000000002\n",
      "Epoch 178. Loss: 0.001594, Train acc 0.999880, Time 00:03:15, lr 0.0010000000000000002\n",
      "Epoch 179. Loss: 0.001613, Train acc 0.999860, Time 00:03:13, lr 0.0010000000000000002\n",
      "Epoch 180. Loss: 0.001609, Train acc 0.999840, Time 00:03:13, lr 0.0010000000000000002\n",
      "Epoch 181. Loss: 0.001519, Train acc 0.999840, Time 00:03:11, lr 0.0010000000000000002\n",
      "Epoch 182. Loss: 0.001656, Train acc 0.999880, Time 00:03:13, lr 0.0010000000000000002\n",
      "Epoch 183. Loss: 0.001476, Train acc 0.999900, Time 00:03:12, lr 0.0010000000000000002\n",
      "Epoch 184. Loss: 0.001593, Train acc 0.999800, Time 00:03:12, lr 0.0010000000000000002\n",
      "Epoch 185. Loss: 0.001589, Train acc 0.999860, Time 00:03:14, lr 0.0010000000000000002\n",
      "Epoch 186. Loss: 0.001590, Train acc 0.999900, Time 00:03:15, lr 0.0010000000000000002\n",
      "Epoch 187. Loss: 0.001673, Train acc 0.999860, Time 00:03:15, lr 0.0010000000000000002\n",
      "Epoch 188. Loss: 0.001425, Train acc 0.999880, Time 00:03:15, lr 0.0010000000000000002\n",
      "Epoch 189. Loss: 0.001360, Train acc 0.999920, Time 00:03:17, lr 0.0010000000000000002\n",
      "Epoch 190. Loss: 0.001403, Train acc 0.999920, Time 00:03:13, lr 0.0010000000000000002\n",
      "Epoch 191. Loss: 0.001442, Train acc 0.999840, Time 00:03:11, lr 0.0010000000000000002\n",
      "Epoch 192. Loss: 0.001526, Train acc 0.999820, Time 00:03:15, lr 0.0010000000000000002\n",
      "Epoch 193. Loss: 0.001494, Train acc 0.999860, Time 00:03:16, lr 0.0010000000000000002\n",
      "Epoch 194. Loss: 0.001536, Train acc 0.999840, Time 00:03:11, lr 0.0010000000000000002\n",
      "Epoch 195. Loss: 0.001378, Train acc 0.999920, Time 00:03:14, lr 0.0010000000000000002\n",
      "Epoch 196. Loss: 0.001428, Train acc 0.999920, Time 00:03:15, lr 0.0010000000000000002\n",
      "Epoch 197. Loss: 0.001686, Train acc 0.999760, Time 00:03:13, lr 0.0010000000000000002\n",
      "Epoch 198. Loss: 0.001461, Train acc 0.999880, Time 00:03:12, lr 0.0010000000000000002\n",
      "Epoch 199. Loss: 0.001436, Train acc 0.999760, Time 00:03:15, lr 0.0010000000000000002\n"
     ]
    }
   ],
   "source": [
    "ctx = mx.gpu(1)\n",
    "num_epochs = 200\n",
    "learning_rate = 0.1\n",
    "weight_decay = 1e-4\n",
    "lr_decay = 0.1\n",
    "train(model, train_valid_data, None, num_epochs, learning_rate, weight_decay, ctx, lr_decay)"
   ]
  },
  {
   "cell_type": "code",
   "execution_count": 24,
   "metadata": {
    "ExecuteTime": {
     "end_time": "2017-11-06T22:20:09.573940Z",
     "start_time": "2017-11-06T22:20:09.135155Z"
    },
    "collapsed": true
   },
   "outputs": [],
   "source": [
    "model.save_params('./resnet.params')"
   ]
  },
  {
   "cell_type": "code",
   "execution_count": 25,
   "metadata": {
    "ExecuteTime": {
     "end_time": "2017-11-06T22:29:54.482861Z",
     "start_time": "2017-11-06T22:21:15.812312Z"
    },
    "collapsed": true
   },
   "outputs": [],
   "source": [
    "import pandas as pd\n",
    "\n",
    "preds = []\n",
    "for data, _ in test_data:\n",
    "    data = data.as_in_context(ctx)\n",
    "    output = model(data)\n",
    "    pred_label = output.argmax(1)\n",
    "    preds.extend(pred_label.astype(int).asnumpy())\n",
    "\n",
    "sorted_ids = list(range(1, len(test_ds) + 1))\n",
    "sorted_ids.sort(key = lambda x:str(x))\n",
    "\n",
    "df = pd.DataFrame({'id': sorted_ids, 'label': preds})\n",
    "df['label'] = df['label'].apply(lambda x: train_ds.synsets[x])\n",
    "df.to_csv('submission.csv', index=False)"
   ]
  },
  {
   "cell_type": "code",
   "execution_count": null,
   "metadata": {
    "collapsed": true
   },
   "outputs": [],
   "source": []
  }
 ],
 "metadata": {
  "anaconda-cloud": {},
  "kernelspec": {
   "display_name": "Python 3",
   "language": "python",
   "name": "python3"
  },
  "language_info": {
   "codemirror_mode": {
    "name": "ipython",
    "version": 3
   },
   "file_extension": ".py",
   "mimetype": "text/x-python",
   "name": "python",
   "nbconvert_exporter": "python",
   "pygments_lexer": "ipython3",
   "version": "3.6.2"
  }
 },
 "nbformat": 4,
 "nbformat_minor": 2
}
